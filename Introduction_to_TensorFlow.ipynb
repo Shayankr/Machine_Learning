{
  "nbformat": 4,
  "nbformat_minor": 0,
  "metadata": {
    "colab": {
      "name": "Introduction_to_TensorFlow.ipynb",
      "provenance": [],
      "authorship_tag": "ABX9TyOhHqiSaqUZ6EjxNUYykcq2",
      "include_colab_link": true
    },
    "kernelspec": {
      "name": "python3",
      "display_name": "Python 3"
    },
    "language_info": {
      "name": "python"
    }
  },
  "cells": [
    {
      "cell_type": "markdown",
      "metadata": {
        "id": "view-in-github",
        "colab_type": "text"
      },
      "source": [
        "<a href=\"https://colab.research.google.com/github/Shayankr/Machine_Learning/blob/master/Introduction_to_TensorFlow.ipynb\" target=\"_parent\"><img src=\"https://colab.research.google.com/assets/colab-badge.svg\" alt=\"Open In Colab\"/></a>"
      ]
    },
    {
      "cell_type": "markdown",
      "source": [
        "# TensorFlow Introduction"
      ],
      "metadata": {
        "id": "tjmbRRRZHmbt"
      }
    },
    {
      "cell_type": "code",
      "execution_count": null,
      "metadata": {
        "id": "NyfPgq89G_qN"
      },
      "outputs": [],
      "source": [
        "T"
      ]
    }
  ]
}