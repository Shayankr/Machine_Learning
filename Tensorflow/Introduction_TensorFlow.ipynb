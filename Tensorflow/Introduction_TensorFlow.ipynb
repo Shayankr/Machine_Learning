{
 "cells": [
  {
   "cell_type": "markdown",
   "metadata": {},
   "source": [
    "<img src=\"data:image/png;base64,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\">"
   ]
  },
  {
   "cell_type": "markdown",
   "metadata": {},
   "source": [
    "TensorFlow is a free and open-source software library for machine learning and artificial intelligence"
   ]
  },
  {
   "cell_type": "markdown",
   "metadata": {},
   "source": [
    "TensorFlow is developed by Google primarily for deep learning applications. It also supports traditional machine learning. "
   ]
  },
  {
   "cell_type": "markdown",
   "metadata": {},
   "source": [
    "Website is: <a href=\"https://www.tensorflow.org/\"> tensorflow </a>"
   ]
  },
  {
   "cell_type": "markdown",
   "metadata": {},
   "source": [
    "###### Features of Tensorflow"
   ]
  },
  {
   "cell_type": "markdown",
   "metadata": {},
   "source": [
    "    1. Open-source Library\n",
    "    2. Easy to run\n",
    "    3. Fast Debugging\n",
    "    4. It includes a programming support of deep neural networks and machine learning techniques.\n",
    "    5. Scalable - It includes a high scalable feature of computation with various data sets.\n",
    "    6. TensorFlow usesGPU  computing,automating  management.  It  also  includesa unique feature of optimization of same memory and the data used\n",
    "    7. It  includes  a  feature  of that  defines,  optimizes  and  calculates mathematical expressions easily with the help of multi-dimensional arrays called tensors\n"
   ]
  },
  {
   "cell_type": "markdown",
   "metadata": {},
   "source": [
    "    Scalar\n",
    "    vector\n",
    "    matrix\n",
    "    tensor -- multi-dimensional array or list"
   ]
  },
  {
   "cell_type": "markdown",
   "metadata": {},
   "source": [
    "<b><I>Tensors are identified by thefollowing three parameters:</I></b>\n",
    "\n",
    "* <b>Rank: </b>Unit of dimensionality described within tensor is called rank. \n",
    "    It identifies the number of dimensions of the tensor. A rank of a tensor can be described as the order or n-dimensions of a tensor defined.\n",
    "    \n",
    "*    <b>Shape:</b> The number of rows and columns together definethe shape of Tensor.\n",
    "    \n",
    "*    <b>Type:</b> Type describes the data type assigned to Tensor’s elements.A user needs to consider the following activities for building a Tensor: \n",
    "        * Build an n-dimensional array\n",
    "        * Convert the n-dimensional array."
   ]
  },
  {
   "cell_type": "markdown",
   "metadata": {},
   "source": [
    "<img src=\"https://cdn-images-1.medium.com/max/2000/1*_D5ZvufDS38WkhK9rK32hQ.jpeg\" height=\"100\" width=\"500\"/>"
   ]
  },
  {
   "cell_type": "markdown",
   "metadata": {},
   "source": [
    "<b>In TensorFlow, tensors are multi-dimensional arrays with a uniform type (called a dtype).  All tensors are immutable like Python numbers and strings: you can never update the contents of a tensor, only create a new one."
   ]
  },
  {
   "cell_type": "markdown",
   "metadata": {},
   "source": [
    "Tensor Rank -- represents the dimensio of the n-dimensional array."
   ]
  },
  {
   "cell_type": "markdown",
   "metadata": {},
   "source": [
    "TensorFlow = Tensor + Flow [[Computational Geraph is executed inside a session]]"
   ]
  },
  {
   "cell_type": "markdown",
   "metadata": {},
   "source": [
    "<img src= \"https://iq.opengenus.org/content/images/2019/02/tensorflow_tensor.jpg\" height=\"400\" width=\"500\"/>"
   ]
  },
  {
   "cell_type": "markdown",
   "metadata": {},
   "source": [
    "<b>Program Elements in TensorFlow:</b>\n",
    "* Constant\n",
    "*  PlaceHolder\n",
    "*  Variable"
   ]
  },
  {
   "cell_type": "markdown",
   "metadata": {},
   "source": [
    "###### Constant"
   ]
  },
  {
   "cell_type": "code",
   "execution_count": 1,
   "metadata": {},
   "outputs": [],
   "source": [
    "# import tensorflow\n",
    "import tensorflow as tf"
   ]
  },
  {
   "cell_type": "code",
   "execution_count": 2,
   "metadata": {},
   "outputs": [
    {
     "name": "stdout",
     "output_type": "stream",
     "text": [
      "2.8.0\n"
     ]
    }
   ],
   "source": [
    "print(tf.__version__)"
   ]
  },
  {
   "cell_type": "code",
   "execution_count": 3,
   "metadata": {},
   "outputs": [],
   "source": [
    "# constant\n",
    "\n",
    "con1 = tf.constant(10)  # Int type constant\n",
    "con2= tf.constant(3.14)  # Float type constant\n",
    "con3 = tf.constant(\"This is Sparta\")  # String type constant\n",
    "con4 = tf.constant(False)  #Boolean type constant"
   ]
  },
  {
   "cell_type": "code",
   "execution_count": 4,
   "metadata": {},
   "outputs": [
    {
     "name": "stdout",
     "output_type": "stream",
     "text": [
      "tf.Tensor(10, shape=(), dtype=int32)\n"
     ]
    }
   ],
   "source": [
    "print(con1)"
   ]
  },
  {
   "cell_type": "code",
   "execution_count": 5,
   "metadata": {},
   "outputs": [
    {
     "name": "stdout",
     "output_type": "stream",
     "text": [
      "[<tf.Tensor: shape=(), dtype=int32, numpy=10>, <tf.Tensor: shape=(), dtype=float32, numpy=3.14>, <tf.Tensor: shape=(), dtype=string, numpy=b'This is Sparta'>, <tf.Tensor: shape=(), dtype=bool, numpy=False>]\n"
     ]
    }
   ],
   "source": [
    "print([con1, con2, con3, con4])"
   ]
  },
  {
   "cell_type": "markdown",
   "metadata": {},
   "source": [
    "Here, I have only data-types of these constants but not values."
   ]
  },
  {
   "cell_type": "markdown",
   "metadata": {},
   "source": [
    "We have to create a computationla graph and then execute that computational graph \n",
    "inside a session."
   ]
  },
  {
   "cell_type": "code",
   "execution_count": 6,
   "metadata": {},
   "outputs": [
    {
     "name": "stdout",
     "output_type": "stream",
     "text": [
      "tf.Tensor(10, shape=(), dtype=int32) tf.Tensor(3.14, shape=(), dtype=float32)\n"
     ]
    }
   ],
   "source": [
    "print(con1, con2)"
   ]
  },
  {
   "cell_type": "code",
   "execution_count": 7,
   "metadata": {},
   "outputs": [
    {
     "data": {
      "text/plain": [
       "tensorflow.python.framework.ops.EagerTensor"
      ]
     },
     "execution_count": 7,
     "metadata": {},
     "output_type": "execute_result"
    }
   ],
   "source": [
    "type(con1)"
   ]
  },
  {
   "cell_type": "code",
   "execution_count": 8,
   "metadata": {},
   "outputs": [
    {
     "name": "stdout",
     "output_type": "stream",
     "text": [
      "10\r\n"
     ]
    }
   ],
   "source": [
    "tf.print(con1)"
   ]
  },
  {
   "cell_type": "markdown",
   "metadata": {},
   "source": [
    "A session allows to execute graphs or part of graphs."
   ]
  },
  {
   "cell_type": "raw",
   "metadata": {},
   "source": [
    "# Create Session\n",
    "sess= tf.Session()\n",
    "# It doesn't work."
   ]
  },
  {
   "cell_type": "code",
   "execution_count": 9,
   "metadata": {},
   "outputs": [
    {
     "data": {
      "text/plain": [
       "<module 'tensorflow._api.v2.version' from 'E:\\\\Users\\\\SHAYAN\\\\anaconda3\\\\lib\\\\site-packages\\\\tensorflow\\\\_api\\\\v2\\\\version\\\\__init__.py'>"
      ]
     },
     "execution_count": 9,
     "metadata": {},
     "output_type": "execute_result"
    }
   ],
   "source": [
    "tf.version"
   ]
  },
  {
   "cell_type": "code",
   "execution_count": 10,
   "metadata": {},
   "outputs": [
    {
     "name": "stdout",
     "output_type": "stream",
     "text": [
      "2.8.0\n"
     ]
    }
   ],
   "source": [
    "print(tf.__version__)"
   ]
  },
  {
   "cell_type": "markdown",
   "metadata": {},
   "source": [
    "## Now, here work like tensorflow version- 1.x.x"
   ]
  },
  {
   "cell_type": "code",
   "execution_count": 11,
   "metadata": {},
   "outputs": [],
   "source": [
    "tf.compat.v1.disable_eager_execution() # need to disable eager in TF2.x"
   ]
  },
  {
   "cell_type": "code",
   "execution_count": 12,
   "metadata": {},
   "outputs": [
    {
     "name": "stdout",
     "output_type": "stream",
     "text": [
      "30.0\n"
     ]
    }
   ],
   "source": [
    "# Build a graph.\n",
    "a = tf.constant(5.0)\n",
    "b = tf.constant(6.0)\n",
    "c = a * b\n",
    "\n",
    "# Launch the graph in a session.\n",
    "sess = tf.compat.v1.Session()\n",
    "\n",
    "# Evaluate the tensor `c`.\n",
    "print(sess.run(c)) # prints 30.0"
   ]
  },
  {
   "cell_type": "raw",
   "metadata": {},
   "source": [
    "tf.print(con1)\n",
    "\n",
    "#RuntimeError: Attempting to capture an EagerTensor without building a function."
   ]
  },
  {
   "cell_type": "code",
   "execution_count": 14,
   "metadata": {},
   "outputs": [
    {
     "data": {
      "text/plain": [
       "<tf.Tensor: shape=(), dtype=int32, numpy=10>"
      ]
     },
     "execution_count": 14,
     "metadata": {},
     "output_type": "execute_result"
    }
   ],
   "source": [
    "con1"
   ]
  },
  {
   "cell_type": "code",
   "execution_count": 15,
   "metadata": {},
   "outputs": [
    {
     "data": {
      "text/plain": [
       "<tensorflow.python.client.session.Session at 0x20569c42f10>"
      ]
     },
     "execution_count": 15,
     "metadata": {},
     "output_type": "execute_result"
    }
   ],
   "source": [
    "sess"
   ]
  },
  {
   "cell_type": "code",
   "execution_count": 16,
   "metadata": {},
   "outputs": [],
   "source": [
    "# constant\n",
    "\n",
    "con1 = tf.constant(10)  # Int type constant\n",
    "con2= tf.constant(3.14)  # Float type constant\n",
    "con3 = tf.constant(\"This is Sparta\")  # String type constant\n",
    "con4 = tf.constant(False)  #Boolean type constant"
   ]
  },
  {
   "cell_type": "code",
   "execution_count": 17,
   "metadata": {},
   "outputs": [],
   "source": [
    "sess = tf.compat.v1.Session()"
   ]
  },
  {
   "cell_type": "code",
   "execution_count": 18,
   "metadata": {},
   "outputs": [
    {
     "data": {
      "text/plain": [
       "10"
      ]
     },
     "execution_count": 18,
     "metadata": {},
     "output_type": "execute_result"
    }
   ],
   "source": [
    "sess.run(con1)"
   ]
  },
  {
   "cell_type": "code",
   "execution_count": 19,
   "metadata": {},
   "outputs": [
    {
     "data": {
      "text/plain": [
       "[10, 3.14, b'This is Sparta', False]"
      ]
     },
     "execution_count": 19,
     "metadata": {},
     "output_type": "execute_result"
    }
   ],
   "source": [
    "sess.run([con1, con2, con3, con4])"
   ]
  },
  {
   "cell_type": "code",
   "execution_count": 20,
   "metadata": {},
   "outputs": [],
   "source": [
    "# OPerations\n",
    "\n",
    "Addition = tf.constant(20) + tf.constant(30)\n",
    "#Addition_1 = tf.constant(20.2) + tf.constant(30) # both should have same data-type.\n",
    "\n",
    "Multiplication =tf.constant(20) * tf.constant(30)"
   ]
  },
  {
   "cell_type": "code",
   "execution_count": 21,
   "metadata": {},
   "outputs": [
    {
     "data": {
      "text/plain": [
       "[50, 600]"
      ]
     },
     "execution_count": 21,
     "metadata": {},
     "output_type": "execute_result"
    }
   ],
   "source": [
    "sess.run([Addition, Multiplication])"
   ]
  },
  {
   "cell_type": "code",
   "execution_count": 22,
   "metadata": {},
   "outputs": [],
   "source": [
    "# operations on vectors\n",
    "\n",
    "Addition = tf.constant([1,2,3,4,5]) + tf.constant([5,4,3,2,1]) #element-wise operations\n",
    "Multiplication = tf.constant([1,2,3,4,5]) * tf.constant([5,4,3,2,1])  #element-wise operations"
   ]
  },
  {
   "cell_type": "code",
   "execution_count": 23,
   "metadata": {},
   "outputs": [
    {
     "data": {
      "text/plain": [
       "[array([6, 6, 6, 6, 6]), array([5, 8, 9, 8, 5])]"
      ]
     },
     "execution_count": 23,
     "metadata": {},
     "output_type": "execute_result"
    }
   ],
   "source": [
    "sess.run([Addition, Multiplication])"
   ]
  },
  {
   "cell_type": "code",
   "execution_count": 24,
   "metadata": {},
   "outputs": [],
   "source": [
    "#Operations on string\n",
    "\n",
    "str1 = tf.constant(\"I Love\")\n",
    "\n",
    "str2 = tf.constant(\"TensorFlow\")"
   ]
  },
  {
   "cell_type": "code",
   "execution_count": 25,
   "metadata": {},
   "outputs": [
    {
     "data": {
      "text/plain": [
       "b'I LoveTensorFlow'"
      ]
     },
     "execution_count": 25,
     "metadata": {},
     "output_type": "execute_result"
    }
   ],
   "source": [
    "sess.run(str1+str2)"
   ]
  },
  {
   "cell_type": "markdown",
   "metadata": {},
   "source": [
    "###### Placeholder"
   ]
  },
  {
   "cell_type": "markdown",
   "metadata": {},
   "source": [
    "Don't need initial value, and provide value during execution."
   ]
  },
  {
   "cell_type": "raw",
   "metadata": {},
   "source": [
    "#placeholder \n",
    "\n",
    "a= tf.placeholder(tf.int32)\n",
    "b = a*2\n",
    "\n",
    "AttributeError: module 'tensorflow' has no attribute 'placeholder'"
   ]
  },
  {
   "cell_type": "code",
   "execution_count": 26,
   "metadata": {},
   "outputs": [],
   "source": [
    "a = tf.compat.v1.placeholder(tf.int32)\n",
    "b=a*2"
   ]
  },
  {
   "cell_type": "code",
   "execution_count": 27,
   "metadata": {},
   "outputs": [
    {
     "data": {
      "text/plain": [
       "10"
      ]
     },
     "execution_count": 27,
     "metadata": {},
     "output_type": "execute_result"
    }
   ],
   "source": [
    "sess.run(b, feed_dict={a:5})"
   ]
  },
  {
   "cell_type": "code",
   "execution_count": 28,
   "metadata": {},
   "outputs": [
    {
     "data": {
      "text/plain": [
       "array([ 2,  4,  6,  8, 10])"
      ]
     },
     "execution_count": 28,
     "metadata": {},
     "output_type": "execute_result"
    }
   ],
   "source": [
    "sess.run(b, feed_dict={a:[1,2,3,4,5]})"
   ]
  },
  {
   "cell_type": "code",
   "execution_count": 29,
   "metadata": {},
   "outputs": [],
   "source": [
    "# string placeholder\n",
    "\n",
    "str_name = tf.compat.v1.placeholder(tf.string)\n",
    "my_name = \"I am\" + str_name"
   ]
  },
  {
   "cell_type": "code",
   "execution_count": 30,
   "metadata": {},
   "outputs": [
    {
     "data": {
      "text/plain": [
       "array([b'I amSam', b'I amBob', b'I amCharle'], dtype=object)"
      ]
     },
     "execution_count": 30,
     "metadata": {},
     "output_type": "execute_result"
    }
   ],
   "source": [
    "sess.run(my_name, feed_dict={str_name:[\"Sam\",\"Bob\",\"Charle\"]})"
   ]
  },
  {
   "cell_type": "markdown",
   "metadata": {},
   "source": [
    "###### Variable"
   ]
  },
  {
   "cell_type": "markdown",
   "metadata": {},
   "source": [
    "A variable is a program elelment which allows us to add new trainable parameters to the graph."
   ]
  },
  {
   "cell_type": "code",
   "execution_count": 31,
   "metadata": {},
   "outputs": [],
   "source": [
    "# Declare the variable value\n",
    "\n",
    "var1 = tf.Variable([20], tf.int32)\n",
    "# whenever dclare varaible, it needs initializaztion."
   ]
  },
  {
   "cell_type": "code",
   "execution_count": 32,
   "metadata": {},
   "outputs": [
    {
     "name": "stdout",
     "output_type": "stream",
     "text": [
      "<tf.Variable 'Variable:0' shape=(1,) dtype=int32>\n"
     ]
    }
   ],
   "source": [
    "print(var1)"
   ]
  },
  {
   "cell_type": "code",
   "execution_count": 33,
   "metadata": {},
   "outputs": [],
   "source": [
    "# initialise\n",
    "init = tf.compat.v1.global_variables_initializer()"
   ]
  },
  {
   "cell_type": "raw",
   "metadata": {},
   "source": [
    "conda create -n tensorflow1.1 python=3.5"
   ]
  },
  {
   "cell_type": "raw",
   "metadata": {},
   "source": [
    "activate tensorflow1.1"
   ]
  },
  {
   "cell_type": "raw",
   "metadata": {},
   "source": [
    " pip install --ignore-installed --upgrade https://storage.googleapis.com/tensorflow/windows/gpu/tensorflow_gpu-1.1.0-cp35-cp35m-win_amd64.whl"
   ]
  },
  {
   "cell_type": "code",
   "execution_count": 34,
   "metadata": {},
   "outputs": [],
   "source": [
    "sess.run(init)"
   ]
  },
  {
   "cell_type": "code",
   "execution_count": 35,
   "metadata": {},
   "outputs": [
    {
     "data": {
      "text/plain": [
       "array([20])"
      ]
     },
     "execution_count": 35,
     "metadata": {},
     "output_type": "execute_result"
    }
   ],
   "source": [
    "sess.run(var1)"
   ]
  },
  {
   "cell_type": "code",
   "execution_count": 36,
   "metadata": {},
   "outputs": [],
   "source": [
    "updated_var1 = tf.compat.v1.assign(var1,[25])"
   ]
  },
  {
   "cell_type": "code",
   "execution_count": 37,
   "metadata": {},
   "outputs": [
    {
     "data": {
      "text/plain": [
       "array([25])"
      ]
     },
     "execution_count": 37,
     "metadata": {},
     "output_type": "execute_result"
    }
   ],
   "source": [
    "sess.run(updated_var1)"
   ]
  },
  {
   "cell_type": "code",
   "execution_count": 38,
   "metadata": {},
   "outputs": [],
   "source": [
    "# Linear model\n",
    "\n",
    "w = tf.Variable([10], tf.int32)\n",
    "b = tf.Variable([5], tf.int32)\n",
    "x = tf.compat.v1.placeholder(tf.int32)"
   ]
  },
  {
   "cell_type": "code",
   "execution_count": 39,
   "metadata": {},
   "outputs": [],
   "source": [
    "linear_model = w*x+b"
   ]
  },
  {
   "cell_type": "code",
   "execution_count": 40,
   "metadata": {},
   "outputs": [],
   "source": [
    "init1 = tf.compat.v1.global_variables_initializer()"
   ]
  },
  {
   "cell_type": "code",
   "execution_count": 41,
   "metadata": {},
   "outputs": [],
   "source": [
    "sess.run(init1)"
   ]
  },
  {
   "cell_type": "code",
   "execution_count": 42,
   "metadata": {},
   "outputs": [
    {
     "data": {
      "text/plain": [
       "array([15, 25, 35, 45, 55])"
      ]
     },
     "execution_count": 42,
     "metadata": {},
     "output_type": "execute_result"
    }
   ],
   "source": [
    "sess.run(linear_model, feed_dict={x:[1,2,3,4,5]})"
   ]
  },
  {
   "cell_type": "code",
   "execution_count": null,
   "metadata": {},
   "outputs": [],
   "source": []
  },
  {
   "cell_type": "markdown",
   "metadata": {},
   "source": [
    "# Tensorflow 2.0"
   ]
  },
  {
   "cell_type": "code",
   "execution_count": null,
   "metadata": {},
   "outputs": [],
   "source": []
  }
 ],
 "metadata": {
  "kernelspec": {
   "display_name": "Python 3",
   "language": "python",
   "name": "python3"
  },
  "language_info": {
   "codemirror_mode": {
    "name": "ipython",
    "version": 3
   },
   "file_extension": ".py",
   "mimetype": "text/x-python",
   "name": "python",
   "nbconvert_exporter": "python",
   "pygments_lexer": "ipython3",
   "version": "3.8.3"
  }
 },
 "nbformat": 4,
 "nbformat_minor": 4
}
