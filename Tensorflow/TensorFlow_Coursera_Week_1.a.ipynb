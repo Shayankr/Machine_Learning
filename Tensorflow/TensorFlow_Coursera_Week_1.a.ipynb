{
 "cells": [
  {
   "cell_type": "markdown",
   "metadata": {},
   "source": [
    "#### API Hierarchy"
   ]
  },
  {
   "cell_type": "markdown",
   "metadata": {},
   "source": [
    "<img src=\"https://www.researchgate.net/profile/Abu-Kamruzzaman/publication/332540618/figure/fig5/AS:776663918985226@1562182516650/Tensor-Flow-API-Hierarchy-19.ppm\"/>"
   ]
  },
  {
   "cell_type": "code",
   "execution_count": 1,
   "metadata": {},
   "outputs": [],
   "source": [
    "# import tensorflow\n",
    "import tensorflow as tf"
   ]
  },
  {
   "cell_type": "code",
   "execution_count": 2,
   "metadata": {},
   "outputs": [
    {
     "name": "stdout",
     "output_type": "stream",
     "text": [
      "2.8.0\n"
     ]
    }
   ],
   "source": [
    "print(tf.__version__)"
   ]
  },
  {
   "cell_type": "code",
   "execution_count": 3,
   "metadata": {},
   "outputs": [],
   "source": [
    "x = tf.constant(\n",
    "    [[3,5,7],\n",
    "    [4,6,8]])"
   ]
  },
  {
   "cell_type": "code",
   "execution_count": 4,
   "metadata": {},
   "outputs": [
    {
     "name": "stdout",
     "output_type": "stream",
     "text": [
      "[[3 5 7]\n",
      " [4 6 8]]\r\n"
     ]
    }
   ],
   "source": [
    "tf.print(x)"
   ]
  },
  {
   "cell_type": "code",
   "execution_count": 5,
   "metadata": {},
   "outputs": [
    {
     "data": {
      "text/plain": [
       "tensorflow.python.framework.ops.EagerTensor"
      ]
     },
     "execution_count": 5,
     "metadata": {},
     "output_type": "execute_result"
    }
   ],
   "source": [
    "# check type of x\n",
    "type(x)"
   ]
  },
  {
   "cell_type": "code",
   "execution_count": 6,
   "metadata": {},
   "outputs": [
    {
     "data": {
      "text/plain": [
       "<tf.Tensor: shape=(2,), dtype=int32, numpy=array([5, 6])>"
      ]
     },
     "execution_count": 6,
     "metadata": {},
     "output_type": "execute_result"
    }
   ],
   "source": [
    "#Slice\n",
    "y=x[:,1]\n",
    "y"
   ]
  },
  {
   "cell_type": "code",
   "execution_count": 7,
   "metadata": {},
   "outputs": [
    {
     "name": "stdout",
     "output_type": "stream",
     "text": [
      "[5 6]\r\n"
     ]
    }
   ],
   "source": [
    "tf.print(y)"
   ]
  },
  {
   "cell_type": "code",
   "execution_count": 8,
   "metadata": {},
   "outputs": [
    {
     "name": "stdout",
     "output_type": "stream",
     "text": [
      "x is: \n",
      " [[3 5 7]\n",
      " [4 6 8]]\n",
      "reshape form of x is: \n",
      "[[3 5]\n",
      " [7 4]\n",
      " [6 8]]\n"
     ]
    }
   ],
   "source": [
    "# reshape\n",
    "y = tf.reshape(x, [3,2])  #reshapinf occurs row-wise (1st row, then 2nd row, then 3rd row, and so on.)\n",
    "tf.print(\"x is: \\n\",x)\n",
    "tf.print(f'reshape form of x is: \\n{y}')"
   ]
  },
  {
   "cell_type": "markdown",
   "metadata": {},
   "source": [
    "A variable is a tensor whose value can be changed."
   ]
  },
  {
   "cell_type": "code",
   "execution_count": 9,
   "metadata": {},
   "outputs": [
    {
     "name": "stdout",
     "output_type": "stream",
     "text": [
      "2\r\n"
     ]
    }
   ],
   "source": [
    "# x <- 2\n",
    "x = tf.Variable(2.0, dtype=tf.float32, name='my_variable')\n",
    "tf.print(x)"
   ]
  },
  {
   "cell_type": "code",
   "execution_count": 10,
   "metadata": {},
   "outputs": [
    {
     "name": "stdout",
     "output_type": "stream",
     "text": [
      "48.5\r\n"
     ]
    }
   ],
   "source": [
    "# Assign x to 48.5\n",
    "# x <- 48.5\n",
    "\n",
    "x.assign(48.5)\n",
    "tf.print(x)"
   ]
  },
  {
   "cell_type": "code",
   "execution_count": 11,
   "metadata": {},
   "outputs": [
    {
     "name": "stdout",
     "output_type": "stream",
     "text": [
      "52.5\r\n"
     ]
    }
   ],
   "source": [
    "# x <- x+4\n",
    "x.assign_add(4)\n",
    "tf.print(x)"
   ]
  },
  {
   "cell_type": "code",
   "execution_count": 12,
   "metadata": {},
   "outputs": [
    {
     "name": "stdout",
     "output_type": "stream",
     "text": [
      "48.5\r\n"
     ]
    }
   ],
   "source": [
    "# x <- x-4\n",
    "x.assign_sub(4)\n",
    "tf.print(x)"
   ]
  },
  {
   "cell_type": "code",
   "execution_count": 13,
   "metadata": {},
   "outputs": [
    {
     "name": "stdout",
     "output_type": "stream",
     "text": [
      "TensorShape([2, 3]) TensorShape([3, 2])\r\n"
     ]
    }
   ],
   "source": [
    "x = tf.constant(\n",
    "    [[3,5,7],\n",
    "    [4,6,8]])\n",
    "tf.print(x.shape, y.shape)"
   ]
  },
  {
   "cell_type": "code",
   "execution_count": 14,
   "metadata": {},
   "outputs": [
    {
     "name": "stdout",
     "output_type": "stream",
     "text": [
      "[[86 91]\n",
      " [102 108]]\r\n"
     ]
    }
   ],
   "source": [
    "# matrix -multiplication\n",
    "tf.print(tf.matmul(x,y))"
   ]
  },
  {
   "cell_type": "markdown",
   "metadata": {},
   "source": [
    "Tensorflow can compute the derivative of a function with respect to any parameter.\n",
    "* the computation is recorded with <b> gradient tape</b>\n",
    "* the function is expressed with <b> TensorFlow ops only!</b>"
   ]
  },
  {
   "cell_type": "markdown",
   "metadata": {},
   "source": [
    "###### Gradient Tape records operations for Automatic Differentiation"
   ]
  },
  {
   "cell_type": "code",
   "execution_count": 15,
   "metadata": {},
   "outputs": [],
   "source": [
    "def compute__gradients(X, Y, W0, W1):\n",
    "    with tf.GradientTape as tape:\n",
    "        loss = loss_mse(X, Y, W0, W1)\n",
    "    return tape.gradient(loss, [W0, W1])"
   ]
  },
  {
   "cell_type": "code",
   "execution_count": 16,
   "metadata": {},
   "outputs": [],
   "source": [
    "w0 = tf.Variable(0.0)\n",
    "w1 = tf.Variable(0.0)"
   ]
  },
  {
   "cell_type": "raw",
   "metadata": {},
   "source": [
    "dw0, dw1 = compute__gradients(X, Y, w0,w1)"
   ]
  },
  {
   "cell_type": "code",
   "execution_count": 17,
   "metadata": {},
   "outputs": [],
   "source": [
    "# import numpy\n",
    "import numpy as np"
   ]
  },
  {
   "cell_type": "code",
   "execution_count": 18,
   "metadata": {},
   "outputs": [
    {
     "name": "stdout",
     "output_type": "stream",
     "text": [
      "TensorFlow version:  2.8.0\n"
     ]
    }
   ],
   "source": [
    "# check tensorflow version\n",
    "print(\"TensorFlow version: \",tf.version.VERSION)"
   ]
  },
  {
   "cell_type": "markdown",
   "metadata": {},
   "source": [
    "Tensors may have more axes, here is a tensor with 3-axes:"
   ]
  },
  {
   "cell_type": "code",
   "execution_count": 19,
   "metadata": {},
   "outputs": [
    {
     "name": "stdout",
     "output_type": "stream",
     "text": [
      "tf.Tensor(\n",
      "[[[0. 0. 0. 0.]\n",
      "  [0. 0. 0. 0.]\n",
      "  [0. 0. 0. 0.]]\n",
      "\n",
      " [[0. 0. 0. 0.]\n",
      "  [0. 0. 0. 0.]\n",
      "  [0. 0. 0. 0.]]], shape=(2, 3, 4), dtype=float32)\n"
     ]
    }
   ],
   "source": [
    "tensor_= tf.zeros([2, 3, 4])\n",
    "print(tensor_)"
   ]
  },
  {
   "cell_type": "markdown",
   "metadata": {},
   "source": [
    "Convert a tensor into a NumPy array either using **np.array** or the **tensor.numpy** method:"
   ]
  },
  {
   "cell_type": "code",
   "execution_count": 20,
   "metadata": {},
   "outputs": [
    {
     "data": {
      "text/plain": [
       "array([[[0., 0., 0., 0.],\n",
       "        [0., 0., 0., 0.],\n",
       "        [0., 0., 0., 0.]],\n",
       "\n",
       "       [[0., 0., 0., 0.],\n",
       "        [0., 0., 0., 0.],\n",
       "        [0., 0., 0., 0.]]], dtype=float32)"
      ]
     },
     "execution_count": 20,
     "metadata": {},
     "output_type": "execute_result"
    }
   ],
   "source": [
    "# using np.array(tensor_)\n",
    "np.array(tensor_)"
   ]
  },
  {
   "cell_type": "code",
   "execution_count": 21,
   "metadata": {},
   "outputs": [
    {
     "data": {
      "text/plain": [
       "array([[[0., 0., 0., 0.],\n",
       "        [0., 0., 0., 0.],\n",
       "        [0., 0., 0., 0.]],\n",
       "\n",
       "       [[0., 0., 0., 0.],\n",
       "        [0., 0., 0., 0.],\n",
       "        [0., 0., 0., 0.]]], dtype=float32)"
      ]
     },
     "execution_count": 21,
     "metadata": {},
     "output_type": "execute_result"
    }
   ],
   "source": [
    "#using tensor_.numpy()\n",
    "tensor_.numpy()"
   ]
  },
  {
   "cell_type": "markdown",
   "metadata": {},
   "source": [
    "Tensors often contain floats and ints, but have many other types, including:\n",
    "\n",
    "* complex numbers\n",
    "* strings"
   ]
  },
  {
   "cell_type": "markdown",
   "metadata": {},
   "source": [
    "Basic math operations on tensors, **addition**, **element-wise multiplication**, and **matrix multiplication**."
   ]
  },
  {
   "cell_type": "code",
   "execution_count": 22,
   "metadata": {},
   "outputs": [
    {
     "name": "stdout",
     "output_type": "stream",
     "text": [
      "tf.Tensor(\n",
      "[[ 4  8]\n",
      " [ 2 10]], shape=(2, 2), dtype=int32) \n",
      "\n",
      "tf.Tensor(\n",
      "[[3 7]\n",
      " [1 9]], shape=(2, 2), dtype=int32) \n",
      "\n",
      "tf.Tensor(\n",
      "[[10 10]\n",
      " [10 10]], shape=(2, 2), dtype=int32) \n",
      "\n"
     ]
    }
   ],
   "source": [
    "a = tf.constant([[3,7],\n",
    "                [1,9]])\n",
    "b = tf.constant([[1, 1],\n",
    "                 [1, 1]]) # Could have also said `tf.ones([2,2])`\n",
    "\n",
    "print(tf.add(a, b), \"\\n\")\n",
    "print(tf.multiply(a, b), \"\\n\")\n",
    "print(tf.matmul(a, b), \"\\n\")"
   ]
  },
  {
   "cell_type": "markdown",
   "metadata": {},
   "source": [
    "Symbolically, mathematical operations can be performed as:"
   ]
  },
  {
   "cell_type": "code",
   "execution_count": 23,
   "metadata": {},
   "outputs": [
    {
     "name": "stdout",
     "output_type": "stream",
     "text": [
      "element-wise addition: [[ 4  8]\n",
      " [ 2 10]] \n",
      "\n",
      "element-wise multiplication: [[3 7]\n",
      " [1 9]] \n",
      "\n",
      "matrix multiplication is: [[10 10]\n",
      " [10 10]] \n",
      "\n"
     ]
    }
   ],
   "source": [
    "# element-wise addition\n",
    "print(f\"element-wise addition: {a + b}\", \"\\n\") \n",
    "\n",
    "# element-wise multiplication\n",
    "print(f\"element-wise multiplication: {a * b}\", \"\\n\") \n",
    "\n",
    "# matrix multiplication\n",
    "print(f\"matrix multiplication is: {a @ b}\", \"\\n\") "
   ]
  },
  {
   "cell_type": "code",
   "execution_count": 24,
   "metadata": {},
   "outputs": [
    {
     "name": "stdout",
     "output_type": "stream",
     "text": [
      "tf.Tensor(9, shape=(), dtype=int32)\n"
     ]
    }
   ],
   "source": [
    "# find maximum value of tensor\"a\"\n",
    "print(tf.reduce_max(a))"
   ]
  },
  {
   "cell_type": "code",
   "execution_count": 25,
   "metadata": {},
   "outputs": [
    {
     "name": "stdout",
     "output_type": "stream",
     "text": [
      "1\r\n"
     ]
    }
   ],
   "source": [
    "# find smallest value\n",
    "tf.print(tf.reduce_min(a))"
   ]
  },
  {
   "cell_type": "code",
   "execution_count": 26,
   "metadata": {},
   "outputs": [
    {
     "name": "stdout",
     "output_type": "stream",
     "text": [
      "a is: [[3 7]\n",
      " [1 9]]\n",
      "[0 1]\n"
     ]
    }
   ],
   "source": [
    "# find index of minimum value\n",
    "tf.print(f\"a is: {a}\")\n",
    "tf.print(tf.argmax(a))"
   ]
  },
  {
   "cell_type": "code",
   "execution_count": 27,
   "metadata": {},
   "outputs": [
    {
     "name": "stdout",
     "output_type": "stream",
     "text": [
      "tf.Tensor([1 1], shape=(2,), dtype=int64)\n"
     ]
    }
   ],
   "source": [
    "print(tf.argmax(a, axis=1))"
   ]
  },
  {
   "cell_type": "code",
   "execution_count": 28,
   "metadata": {},
   "outputs": [
    {
     "name": "stdout",
     "output_type": "stream",
     "text": [
      "a is:  [[3 7]\n",
      " [1 9]]\n",
      "\n",
      " index-position of smallest value alnog axis-0 is:  [1 0]\n"
     ]
    }
   ],
   "source": [
    "# find index value of minimum value along axis-0\n",
    "tf.print(\"a is: \",a)\n",
    "tf.print(\"\\n index-position of smallest value alnog axis-0 is: \",tf.argmin(a, axis=0))"
   ]
  },
  {
   "cell_type": "code",
   "execution_count": 29,
   "metadata": {},
   "outputs": [
    {
     "name": "stdout",
     "output_type": "stream",
     "text": [
      "[[0.0179862101 0.982013762]\n",
      " [0.000335350138 0.999664664]]\r\n"
     ]
    }
   ],
   "source": [
    "# compute the softmax value of a along any particular axis\n",
    "tf.print(tf.nn.softmax(tf.cast(a, tf.float32), axis=1, ))  # value inside \"a\" should not be 'int'.\n",
    "# cast-data type"
   ]
  },
  {
   "cell_type": "code",
   "execution_count": 30,
   "metadata": {},
   "outputs": [
    {
     "name": "stdout",
     "output_type": "stream",
     "text": [
      "[[0.880797 0.119202912]\n",
      " [0.119202912 0.880797]]\r\n"
     ]
    }
   ],
   "source": [
    "# softmax along axis-0\n",
    "tf.print(tf.nn.softmax(tf.cast(a, tf.float32), axis=0, ))"
   ]
  },
  {
   "cell_type": "markdown",
   "metadata": {},
   "source": [
    "Tensors have shapes.  Some terms are:\n",
    "\n",
    "* **Shape**: The length (number of elements) of each of the dimensions of a tensor.\n",
    "* **Rank**: Number of tensor dimensions.  A scalar has rank 0, a vector has rank 1, a matrix is rank 2.\n",
    "* **Axis** or **Dimension**: A particular dimension of a tensor.\n",
    "* **Size**: The total number of items in the tensor, the product shape vector\n"
   ]
  },
  {
   "cell_type": "code",
   "execution_count": 31,
   "metadata": {},
   "outputs": [],
   "source": [
    "rank_4_tensor = tf.zeros([3, 2, 4, 5])"
   ]
  },
  {
   "cell_type": "code",
   "execution_count": 32,
   "metadata": {},
   "outputs": [
    {
     "name": "stdout",
     "output_type": "stream",
     "text": [
      "rank_4_tensor is:\n",
      " [[[[0. 0. 0. 0. 0.]\n",
      "   [0. 0. 0. 0. 0.]\n",
      "   [0. 0. 0. 0. 0.]\n",
      "   [0. 0. 0. 0. 0.]]\n",
      "\n",
      "  [[0. 0. 0. 0. 0.]\n",
      "   [0. 0. 0. 0. 0.]\n",
      "   [0. 0. 0. 0. 0.]\n",
      "   [0. 0. 0. 0. 0.]]]\n",
      "\n",
      "\n",
      " [[[0. 0. 0. 0. 0.]\n",
      "   [0. 0. 0. 0. 0.]\n",
      "   [0. 0. 0. 0. 0.]\n",
      "   [0. 0. 0. 0. 0.]]\n",
      "\n",
      "  [[0. 0. 0. 0. 0.]\n",
      "   [0. 0. 0. 0. 0.]\n",
      "   [0. 0. 0. 0. 0.]\n",
      "   [0. 0. 0. 0. 0.]]]\n",
      "\n",
      "\n",
      " [[[0. 0. 0. 0. 0.]\n",
      "   [0. 0. 0. 0. 0.]\n",
      "   [0. 0. 0. 0. 0.]\n",
      "   [0. 0. 0. 0. 0.]]\n",
      "\n",
      "  [[0. 0. 0. 0. 0.]\n",
      "   [0. 0. 0. 0. 0.]\n",
      "   [0. 0. 0. 0. 0.]\n",
      "   [0. 0. 0. 0. 0.]]]]\r\n"
     ]
    }
   ],
   "source": [
    "tf.print(f\"rank_4_tensor is:\\n {rank_4_tensor}\")"
   ]
  },
  {
   "cell_type": "code",
   "execution_count": 33,
   "metadata": {},
   "outputs": [
    {
     "name": "stdout",
     "output_type": "stream",
     "text": [
      "Data type of every element is: <dtype: 'float32'>\n",
      "Number of dimensions: 4\n",
      "Shape of tensor: (3, 2, 4, 5)\n",
      "Elements along axis 0 of tensor: 3\n",
      "Elements along the last axis of tensor: 5\n",
      "Total number of elements (3*2*4*5):  120\n"
     ]
    }
   ],
   "source": [
    "print(\"Data type of every element is:\", rank_4_tensor.dtype)\n",
    "print(\"Number of dimensions:\", rank_4_tensor.ndim)\n",
    "print(\"Shape of tensor:\", rank_4_tensor.shape)\n",
    "print(\"Elements along axis 0 of tensor:\", rank_4_tensor.shape[0])\n",
    "print(\"Elements along the last axis of tensor:\", rank_4_tensor.shape[-1])\n",
    "print(\"Total number of elements (3*2*4*5): \", tf.size(rank_4_tensor).numpy())  # calculate size (total_no. of terms)"
   ]
  },
  {
   "cell_type": "code",
   "execution_count": 34,
   "metadata": {},
   "outputs": [
    {
     "name": "stdout",
     "output_type": "stream",
     "text": [
      "a is: \n",
      "[[3 7]\n",
      " [1 9]]\n",
      "first element of a is: 3\n",
      "first row of a is : [3 7]\n",
      "last element of a is: 9\n"
     ]
    }
   ],
   "source": [
    "# access particular elemennt\n",
    "print(f\"a is: \\n{a}\")\n",
    "\n",
    "print(f\"first element of a is: {a[0][0]}\")\n",
    "print(f\"first row of a is : {a[0]}\")\n",
    "print(f\"last element of a is: {a[-1][-1]}\")"
   ]
  },
  {
   "cell_type": "code",
   "execution_count": 35,
   "metadata": {},
   "outputs": [
    {
     "name": "stdout",
     "output_type": "stream",
     "text": [
      "last row of a is: [1 9]\n"
     ]
    }
   ],
   "source": [
    "# slicing\n",
    "print(f\"last row of a is: {a[-1,:]}\")"
   ]
  },
  {
   "cell_type": "markdown",
   "metadata": {},
   "source": [
    "Manipulating Shapes **tf.reshape()**"
   ]
  },
  {
   "cell_type": "code",
   "execution_count": 36,
   "metadata": {},
   "outputs": [
    {
     "name": "stdout",
     "output_type": "stream",
     "text": [
      "var_x is: \n",
      "<tf.Variable 'Variable:0' shape=(3, 1) dtype=int32, numpy=\n",
      "array([[1],\n",
      "       [2],\n",
      "       [3]])>\n",
      "shape of var_x is: (3, 1)\n"
     ]
    }
   ],
   "source": [
    "var_x = tf.Variable(tf.constant([[1], [2], [3]]))\n",
    "tf.print(f\"var_x is: \\n{var_x}\")\n",
    "tf.print(f\"shape of var_x is: {var_x.shape}\")"
   ]
  },
  {
   "cell_type": "markdown",
   "metadata": {},
   "source": [
    "**.as_list()**"
   ]
  },
  {
   "cell_type": "code",
   "execution_count": 37,
   "metadata": {},
   "outputs": [
    {
     "name": "stdout",
     "output_type": "stream",
     "text": [
      "[3, 1]\n"
     ]
    }
   ],
   "source": [
    "#Convert this object into a Python list, too\n",
    "print(var_x.shape.as_list())"
   ]
  },
  {
   "cell_type": "code",
   "execution_count": 38,
   "metadata": {},
   "outputs": [
    {
     "name": "stdout",
     "output_type": "stream",
     "text": [
      "shape of actual x is: (3, 1)\n",
      "shape of reshaped_x is: (1, 3)\n"
     ]
    }
   ],
   "source": [
    "# reshape into a new shape\n",
    "x_reshaped = tf.reshape(var_x, [1, 3])\n",
    "\n",
    "print(f\"shape of actual x is: {var_x.shape}\")\n",
    "print(f\"shape of reshaped_x is: {x_reshaped.shape}\")"
   ]
  },
  {
   "cell_type": "markdown",
   "metadata": {},
   "source": [
    "TensorFlow uses C-style \"row-major\" memory ordering, where incrementing the right-most index corresponds to a single step in memory."
   ]
  },
  {
   "cell_type": "code",
   "execution_count": 39,
   "metadata": {},
   "outputs": [
    {
     "name": "stdout",
     "output_type": "stream",
     "text": [
      "a is: \n",
      "[[3 7]\n",
      " [1 9]]\n",
      " \n",
      "flattened form of a is: \n",
      "[3 7 1 9]\n"
     ]
    }
   ],
   "source": [
    "# Flattening a tensor\n",
    "print(f\"a is: \\n{a}\")\n",
    "print(f\" \\nflattened form of a is: \\n{tf.reshape(a,[-1])}\")  # it's row-wise flattening in tensor.\n",
    "#If you flatten a tensor you can see what order it is laid out in memory."
   ]
  },
  {
   "cell_type": "code",
   "execution_count": 40,
   "metadata": {},
   "outputs": [
    {
     "data": {
      "text/plain": [
       "<tf.Tensor: shape=(4, 1), dtype=int32, numpy=\n",
       "array([[3],\n",
       "       [7],\n",
       "       [1],\n",
       "       [9]])>"
      ]
     },
     "execution_count": 40,
     "metadata": {},
     "output_type": "execute_result"
    }
   ],
   "source": [
    "tf.reshape(a,[4,-1])"
   ]
  },
  {
   "cell_type": "code",
   "execution_count": 41,
   "metadata": {},
   "outputs": [
    {
     "name": "stdout",
     "output_type": "stream",
     "text": [
      "Input to reshape is a tensor with 4 values, but the requested shape requires a multiple of 7 [Op:Reshape]\n"
     ]
    }
   ],
   "source": [
    "# This doesn't work at all\n",
    "try:\n",
    "  tf.reshape(a, [7, -1])\n",
    "except Exception as e: print(e)\n"
   ]
  },
  {
   "cell_type": "markdown",
   "metadata": {},
   "source": [
    "###### Broadcasting"
   ]
  },
  {
   "cell_type": "markdown",
   "metadata": {},
   "source": [
    "It is equivalent to numpy."
   ]
  },
  {
   "cell_type": "markdown",
   "metadata": {},
   "source": [
    "The simplest and most common case is when you attempt to multiply or add a tensor to a scalar. In that case, the scalar is broadcast to be the same shape as the other argument."
   ]
  },
  {
   "cell_type": "code",
   "execution_count": 42,
   "metadata": {},
   "outputs": [
    {
     "name": "stdout",
     "output_type": "stream",
     "text": [
      "tf.Tensor([2 4 6], shape=(3,), dtype=int32)\n",
      "tf.Tensor([2 4 6], shape=(3,), dtype=int32)\n",
      "tf.Tensor([2 4 6], shape=(3,), dtype=int32)\n"
     ]
    }
   ],
   "source": [
    "x = tf.constant([1, 2, 3])\n",
    "\n",
    "y = tf.constant(2)\n",
    "z = tf.constant([2, 2, 2])\n",
    "# All of these are the same computation\n",
    "print(tf.multiply(x, 2))\n",
    "print(x * y)\n",
    "print(x * z)"
   ]
  },
  {
   "cell_type": "code",
   "execution_count": 43,
   "metadata": {},
   "outputs": [
    {
     "name": "stdout",
     "output_type": "stream",
     "text": [
      "tf.Tensor(\n",
      "[[1]\n",
      " [2]\n",
      " [3]], shape=(3, 1), dtype=int32) \n",
      "\n",
      "tf.Tensor([1 2 3 4], shape=(4,), dtype=int32) \n",
      "\n",
      "tf.Tensor(\n",
      "[[ 1  2  3  4]\n",
      " [ 2  4  6  8]\n",
      " [ 3  6  9 12]], shape=(3, 4), dtype=int32)\n"
     ]
    }
   ],
   "source": [
    "# These are the same computations\n",
    "x = tf.reshape(x,[3,1])\n",
    "y = tf.range(1, 5)  # tensorflow range() function.\n",
    "print(x, \"\\n\")\n",
    "print(y, \"\\n\")\n",
    "print(tf.multiply(x, y))"
   ]
  },
  {
   "cell_type": "code",
   "execution_count": null,
   "metadata": {},
   "outputs": [],
   "source": []
  },
  {
   "cell_type": "markdown",
   "metadata": {},
   "source": [
    "broadcasting looks like using **tf.broadcast_to.**"
   ]
  },
  {
   "cell_type": "code",
   "execution_count": 44,
   "metadata": {},
   "outputs": [
    {
     "name": "stdout",
     "output_type": "stream",
     "text": [
      "tf.Tensor(\n",
      "[[1 2 3]\n",
      " [1 2 3]\n",
      " [1 2 3]], shape=(3, 3), dtype=int32)\n"
     ]
    }
   ],
   "source": [
    "print(tf.broadcast_to(tf.constant([1, 2, 3]), [3, 3]))"
   ]
  },
  {
   "cell_type": "code",
   "execution_count": null,
   "metadata": {},
   "outputs": [],
   "source": []
  },
  {
   "cell_type": "markdown",
   "metadata": {},
   "source": [
    "##### tf.convert_to_tensor"
   ]
  },
  {
   "cell_type": "code",
   "execution_count": 45,
   "metadata": {},
   "outputs": [],
   "source": [
    "ragged_list = [\n",
    "    [0, 1, 2, 3],\n",
    "    [4, 5],\n",
    "    [6, 7, 8],\n",
    "    [9]]"
   ]
  },
  {
   "cell_type": "markdown",
   "metadata": {},
   "source": [
    "A tensor with variable numbers of elements along some axis is called \"ragged\". Use tf.ragged.RaggedTensor for ragged data.\n",
    "\n",
    "For example, This cannot be represented as a regular tensor:"
   ]
  },
  {
   "cell_type": "code",
   "execution_count": 46,
   "metadata": {},
   "outputs": [
    {
     "name": "stdout",
     "output_type": "stream",
     "text": [
      "Can't convert non-rectangular Python sequence to Tensor.\n"
     ]
    }
   ],
   "source": [
    "try:\n",
    "  tensor = tf.constant(ragged_list)\n",
    "except Exception as e: print(e)\n"
   ]
  },
  {
   "cell_type": "markdown",
   "metadata": {},
   "source": [
    "Instead create a **tf.RaggedTensor** using **tf.ragged.constant:**"
   ]
  },
  {
   "cell_type": "code",
   "execution_count": 47,
   "metadata": {},
   "outputs": [
    {
     "name": "stdout",
     "output_type": "stream",
     "text": [
      "<tf.RaggedTensor [[0, 1, 2, 3], [4, 5], [6, 7, 8], [9]]>\n"
     ]
    }
   ],
   "source": [
    "ragged_tensor = tf.ragged.constant(ragged_list)\n",
    "print(ragged_tensor)"
   ]
  },
  {
   "cell_type": "code",
   "execution_count": 48,
   "metadata": {},
   "outputs": [
    {
     "name": "stdout",
     "output_type": "stream",
     "text": [
      "(4, None)\n"
     ]
    }
   ],
   "source": [
    "# The shape of a tf.RaggedTensor contains unknown dimensions:\n",
    "\n",
    "print(ragged_tensor.shape)"
   ]
  },
  {
   "cell_type": "markdown",
   "metadata": {},
   "source": [
    "### String tensors"
   ]
  },
  {
   "cell_type": "markdown",
   "metadata": {},
   "source": [
    "tf.string"
   ]
  },
  {
   "cell_type": "code",
   "execution_count": 49,
   "metadata": {},
   "outputs": [
    {
     "name": "stdout",
     "output_type": "stream",
     "text": [
      "tf.Tensor(b'Gray wolf', shape=(), dtype=string)\n"
     ]
    }
   ],
   "source": [
    "# Tensors can be strings, too here is a scalar string.\n",
    "scalar_string_tensor = tf.constant(\"Gray wolf\")\n",
    "print(scalar_string_tensor)"
   ]
  },
  {
   "cell_type": "code",
   "execution_count": 50,
   "metadata": {},
   "outputs": [
    {
     "name": "stdout",
     "output_type": "stream",
     "text": [
      "tf.Tensor([b'Gray wolf' b'Quick brown fox' b'Lazy dog'], shape=(3,), dtype=string)\n"
     ]
    }
   ],
   "source": [
    "# If we have two string tensors of different lengths, this is OK.\n",
    "tensor_of_strings = tf.constant([\"Gray wolf\",\n",
    "                                 \"Quick brown fox\",\n",
    "                                 \"Lazy dog\"])\n",
    "\n",
    "# shape is (3,), indicating that it is 3 x unknown.\n",
    "print(tensor_of_strings)"
   ]
  },
  {
   "cell_type": "markdown",
   "metadata": {},
   "source": [
    "In the above printout the `b` prefix indicates that `tf.string` dtype is not a unicode string, but a byte-string. See the [Unicode Tutorial](https://www.tensorflow.org/tutorials/load_data/unicode) for more about working with unicode text in TensorFlow."
   ]
  },
  {
   "cell_type": "markdown",
   "metadata": {},
   "source": [
    "unicode characters are utf-8 encoded."
   ]
  },
  {
   "cell_type": "code",
   "execution_count": 51,
   "metadata": {},
   "outputs": [
    {
     "name": "stdout",
     "output_type": "stream",
     "text": [
      "tf.Tensor([b'Gray' b'wolf'], shape=(2,), dtype=string)\n"
     ]
    }
   ],
   "source": [
    "# We can use split to split a string into a set of tensors\n",
    "\n",
    "print(tf.strings.split(scalar_string_tensor, sep=\" \"))"
   ]
  },
  {
   "cell_type": "code",
   "execution_count": 52,
   "metadata": {},
   "outputs": [
    {
     "name": "stdout",
     "output_type": "stream",
     "text": [
      "Help on function string_split_v2 in module tensorflow.python.ops.ragged.ragged_string_ops:\n",
      "\n",
      "string_split_v2(input, sep=None, maxsplit=-1, name=None)\n",
      "    Split elements of `input` based on `sep` into a `RaggedTensor`.\n",
      "    \n",
      "    Let N be the size of `input` (typically N will be the batch size). Split each\n",
      "    element of `input` based on `sep` and return a `RaggedTensor` containing the\n",
      "    split tokens. Empty tokens are ignored.\n",
      "    \n",
      "    Example:\n",
      "    \n",
      "    >>> tf.strings.split('hello world').numpy()\n",
      "     array([b'hello', b'world'], dtype=object)\n",
      "    >>> tf.strings.split(['hello world', 'a b c'])\n",
      "    <tf.RaggedTensor [[b'hello', b'world'], [b'a', b'b', b'c']]>\n",
      "    \n",
      "    If `sep` is given, consecutive delimiters are not grouped together and are\n",
      "    deemed to delimit empty strings. For example, `input` of `\"1<>2<><>3\"` and\n",
      "    `sep` of `\"<>\"` returns `[\"1\", \"2\", \"\", \"3\"]`. If `sep` is None or an empty\n",
      "    string, consecutive whitespace are regarded as a single separator, and the\n",
      "    result will contain no empty strings at the start or end if the string has\n",
      "    leading or trailing whitespace.\n",
      "    \n",
      "    Note that the above mentioned behavior matches python's str.split.\n",
      "    \n",
      "    Args:\n",
      "      input: A string `Tensor` of rank `N`, the strings to split.  If\n",
      "        `rank(input)` is not known statically, then it is assumed to be `1`.\n",
      "      sep: `0-D` string `Tensor`, the delimiter string.\n",
      "      maxsplit: An `int`. If `maxsplit > 0`, limit of the split of the result.\n",
      "      name: A name for the operation (optional).\n",
      "    \n",
      "    Raises:\n",
      "      ValueError: If sep is not a string.\n",
      "    \n",
      "    Returns:\n",
      "      A `RaggedTensor` of rank `N+1`, the strings split according to the\n",
      "      delimiter.\n",
      "\n"
     ]
    }
   ],
   "source": [
    "help(tf.strings.split)"
   ]
  },
  {
   "cell_type": "markdown",
   "metadata": {},
   "source": [
    "**Operations for working with string Tensors.**\n",
    "\n",
    "Functions\n",
    "\n",
    "**as_string(...):** Converts each entry in the given tensor to strings.\n",
    "\n",
    "**bytes_split(...):** Split string elements of input into bytes.\n",
    "\n",
    "**format(...):** Formats a string template using a list of tensors.\n",
    "\n",
    "**join(...):** Perform element-wise concatenation of a list of string tensors.\n",
    "\n",
    "**length(...):** String lengths of input.\n",
    "\n",
    "**lower(...):** Converts all uppercase characters into their respective lowercase replacements.\n",
    "\n",
    "**ngrams(...):** Create a tensor of n-grams based on data.\n",
    "\n",
    "**reduce_join(...):** Joins all strings into a single string, or joins along an axis.\n",
    "\n",
    "**regex_full_match(...):** Check if the input matches the regex pattern.\n",
    "\n",
    "**regex_replace(...):** Replace elements of input matching regex pattern with rewrite.\n",
    "\n",
    "**split(...):** Split elements of input based on sep into a RaggedTensor.\n",
    "\n",
    "**strip(...):** Strip leading and trailing whitespaces from the Tensor.\n",
    "\n",
    "**substr(...):** Return substrings from Tensor of strings.\n",
    "\n",
    "**to_number(...):** Converts each string in the input Tensor to the specified numeric type.\n",
    "\n",
    "**unicode_encode(...):** Encodes each sequence of Unicode code points in input into a string.\n",
    "\n",
    "**unicode_split(...):** Splits each string in input into a sequence of Unicode code points.\n",
    "\n",
    "**unsorted_segment_join(...):** Joins the elements of inputs based on segment_ids.\n",
    "\n",
    "**upper(...):** Converts all lowercase characters into their respective uppercase replacements."
   ]
  },
  {
   "cell_type": "code",
   "execution_count": 53,
   "metadata": {},
   "outputs": [
    {
     "name": "stdout",
     "output_type": "stream",
     "text": [
      "<tf.RaggedTensor [[b'Gray', b'wolf'], [b'Quick', b'brown', b'fox'], [b'Lazy', b'dog']]>\n"
     ]
    }
   ],
   "source": [
    "# it turns into a `RaggedTensor` if we split up a tensor of strings,\n",
    "# as each string might be split into a different number of parts.\n",
    "\n",
    "print(tf.strings.split(tensor_of_strings))"
   ]
  },
  {
   "cell_type": "markdown",
   "metadata": {},
   "source": [
    "now, convert string-formed number into numeric value"
   ]
  },
  {
   "cell_type": "markdown",
   "metadata": {},
   "source": [
    "**tf.strings.to_number()**"
   ]
  },
  {
   "cell_type": "code",
   "execution_count": 54,
   "metadata": {},
   "outputs": [
    {
     "name": "stdout",
     "output_type": "stream",
     "text": [
      "tf.Tensor([  1.  10. 100.], shape=(3,), dtype=float32)\n"
     ]
    }
   ],
   "source": [
    "num_text = tf.constant(\"1 10 100\")\n",
    "\n",
    "print(tf.strings.to_number(tf.strings.split(num_text, \" \")))"
   ]
  },
  {
   "cell_type": "code",
   "execution_count": 55,
   "metadata": {},
   "outputs": [
    {
     "name": "stdout",
     "output_type": "stream",
     "text": [
      "StringToNumberOp could not correctly convert string: 1 10 100 [Op:StringToNumber]\n"
     ]
    }
   ],
   "source": [
    "try:\n",
    "    print(tf.strings.to_number(\"1 10 100\"))\n",
    "except Exception as e:\n",
    "    print(e)"
   ]
  },
  {
   "cell_type": "markdown",
   "metadata": {},
   "source": [
    "**tf.cast()**"
   ]
  },
  {
   "cell_type": "code",
   "execution_count": 56,
   "metadata": {},
   "outputs": [],
   "source": [
    "# convert it into bytes, and then into numbers"
   ]
  },
  {
   "cell_type": "code",
   "execution_count": 57,
   "metadata": {},
   "outputs": [
    {
     "name": "stdout",
     "output_type": "stream",
     "text": [
      "type of byte_strings is:  <class 'tensorflow.python.framework.ops.EagerTensor'>\n",
      "\n",
      "\n",
      "type of byte_ints is:  <class 'tensorflow.python.framework.ops.EagerTensor'>\n",
      "\n",
      "\n",
      "Byte strings: tf.Tensor([b'D' b'u' b'c' b'k'], shape=(4,), dtype=string)\n",
      "Bytes: tf.Tensor([ 68 117  99 107], shape=(4,), dtype=uint8)\n"
     ]
    }
   ],
   "source": [
    "byte_strings = tf.strings.bytes_split(tf.constant(\"Duck\"))\n",
    "print(\"type of byte_strings is: \",type(byte_strings))\n",
    "print(\"\\n\")\n",
    "\n",
    "byte_ints = tf.io.decode_raw(tf.constant(\"Duck\"), tf.uint8)\n",
    "print(\"type of byte_ints is: \",type(byte_ints))\n",
    "print(\"\\n\")\n",
    "\n",
    "print(\"Byte strings:\", byte_strings)\n",
    "\n",
    "print(\"Bytes:\", byte_ints)"
   ]
  },
  {
   "cell_type": "code",
   "execution_count": 58,
   "metadata": {},
   "outputs": [
    {
     "name": "stdout",
     "output_type": "stream",
     "text": [
      "\n",
      "Unicode bytes: tf.Tensor(b'Shayan', shape=(), dtype=string)\n",
      "\n",
      "Unicode chars: tf.Tensor([b'S' b'h' b'a' b'y' b'a' b'n'], shape=(6,), dtype=string)\n",
      "\n",
      "Unicode values: tf.Tensor([ 83 104  97 121  97 110], shape=(6,), dtype=int32)\n"
     ]
    }
   ],
   "source": [
    "# Or split it up as unicode and then decode it\n",
    "\n",
    "unicode_bytes = tf.constant(\"Shayan\")\n",
    "unicode_char_bytes = tf.strings.unicode_split(unicode_bytes, \"UTF-8\")\n",
    "unicode_values = tf.strings.unicode_decode(unicode_bytes, \"UTF-8\")\n",
    "\n",
    "print(\"\\nUnicode bytes:\", unicode_bytes)\n",
    "print(\"\\nUnicode chars:\", unicode_char_bytes)\n",
    "print(\"\\nUnicode values:\", unicode_values)"
   ]
  },
  {
   "cell_type": "markdown",
   "metadata": {},
   "source": [
    "The tf.string dtype is used for all raw bytes data in TensorFlow. The tf.io module contains functions for converting data to and from bytes, including decoding images and parsing csv."
   ]
  }
 ],
 "metadata": {
  "kernelspec": {
   "display_name": "Python 3",
   "language": "python",
   "name": "python3"
  },
  "language_info": {
   "codemirror_mode": {
    "name": "ipython",
    "version": 3
   },
   "file_extension": ".py",
   "mimetype": "text/x-python",
   "name": "python",
   "nbconvert_exporter": "python",
   "pygments_lexer": "ipython3",
   "version": "3.8.3"
  }
 },
 "nbformat": 4,
 "nbformat_minor": 4
}
