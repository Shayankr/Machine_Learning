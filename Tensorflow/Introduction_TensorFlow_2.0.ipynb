{
 "cells": [
  {
   "cell_type": "markdown",
   "metadata": {},
   "source": [
    "# TensorFlow 2.0"
   ]
  },
  {
   "cell_type": "code",
   "execution_count": 1,
   "metadata": {},
   "outputs": [],
   "source": [
    "import tensorflow as tf"
   ]
  },
  {
   "cell_type": "code",
   "execution_count": 2,
   "metadata": {},
   "outputs": [
    {
     "name": "stdout",
     "output_type": "stream",
     "text": [
      "2.8.0\n"
     ]
    }
   ],
   "source": [
    "# verify that you are running tensorflow 2.X.X\n",
    "print(tf.__version__)"
   ]
  },
  {
   "cell_type": "code",
   "execution_count": 3,
   "metadata": {},
   "outputs": [],
   "source": [
    "hello = tf.constant(\"Hello\")"
   ]
  },
  {
   "cell_type": "code",
   "execution_count": 4,
   "metadata": {},
   "outputs": [
    {
     "data": {
      "text/plain": [
       "tensorflow.python.framework.ops.EagerTensor"
      ]
     },
     "execution_count": 4,
     "metadata": {},
     "output_type": "execute_result"
    }
   ],
   "source": [
    "type(hello)"
   ]
  },
  {
   "cell_type": "code",
   "execution_count": 5,
   "metadata": {},
   "outputs": [
    {
     "name": "stdout",
     "output_type": "stream",
     "text": [
      "Hello\r\n"
     ]
    }
   ],
   "source": [
    "tf.print(hello)"
   ]
  },
  {
   "cell_type": "code",
   "execution_count": 6,
   "metadata": {},
   "outputs": [],
   "source": [
    "# create another tensor\n",
    "world = tf.constant(\"World\")"
   ]
  },
  {
   "cell_type": "code",
   "execution_count": 7,
   "metadata": {},
   "outputs": [
    {
     "name": "stdout",
     "output_type": "stream",
     "text": [
      "World\r\n"
     ]
    }
   ],
   "source": [
    "tf.print(world)"
   ]
  },
  {
   "cell_type": "code",
   "execution_count": 8,
   "metadata": {},
   "outputs": [
    {
     "name": "stdout",
     "output_type": "stream",
     "text": [
      "HelloWorld\r\n"
     ]
    }
   ],
   "source": [
    "tf.print(hello+world)"
   ]
  },
  {
   "cell_type": "code",
   "execution_count": 9,
   "metadata": {},
   "outputs": [
    {
     "name": "stdout",
     "output_type": "stream",
     "text": [
      "Hello World!\r\n"
     ]
    }
   ],
   "source": [
    "tf.print(hello+\" \"+world+\"!\")"
   ]
  },
  {
   "cell_type": "code",
   "execution_count": 10,
   "metadata": {},
   "outputs": [],
   "source": [
    "a = tf.constant(10)"
   ]
  },
  {
   "cell_type": "code",
   "execution_count": 11,
   "metadata": {},
   "outputs": [],
   "source": [
    "b=tf.constant(20)"
   ]
  },
  {
   "cell_type": "code",
   "execution_count": 12,
   "metadata": {},
   "outputs": [
    {
     "data": {
      "text/plain": [
       "<tf.Tensor: shape=(), dtype=int32, numpy=30>"
      ]
     },
     "execution_count": 12,
     "metadata": {},
     "output_type": "execute_result"
    }
   ],
   "source": [
    "a+b"
   ]
  },
  {
   "cell_type": "code",
   "execution_count": 13,
   "metadata": {},
   "outputs": [
    {
     "name": "stdout",
     "output_type": "stream",
     "text": [
      "tf.Tensor(30, shape=(), dtype=int32)\n"
     ]
    }
   ],
   "source": [
    "print(a+b)"
   ]
  },
  {
   "cell_type": "code",
   "execution_count": 14,
   "metadata": {},
   "outputs": [
    {
     "name": "stdout",
     "output_type": "stream",
     "text": [
      "30\r\n"
     ]
    }
   ],
   "source": [
    "tf.print(a+b)"
   ]
  },
  {
   "cell_type": "code",
   "execution_count": 15,
   "metadata": {},
   "outputs": [],
   "source": [
    "myarr = tf.fill((5,5),5) # matrix [press shift+tab to view details]"
   ]
  },
  {
   "cell_type": "code",
   "execution_count": 16,
   "metadata": {},
   "outputs": [
    {
     "name": "stdout",
     "output_type": "stream",
     "text": [
      "[[5 5 5 5 5]\n",
      " [5 5 5 5 5]\n",
      " [5 5 5 5 5]\n",
      " [5 5 5 5 5]\n",
      " [5 5 5 5 5]]\r\n"
     ]
    }
   ],
   "source": [
    "tf.print(myarr)"
   ]
  },
  {
   "cell_type": "code",
   "execution_count": 17,
   "metadata": {},
   "outputs": [
    {
     "data": {
      "text/plain": [
       "array([[5, 5, 5, 5, 5],\n",
       "       [5, 5, 5, 5, 5],\n",
       "       [5, 5, 5, 5, 5],\n",
       "       [5, 5, 5, 5, 5],\n",
       "       [5, 5, 5, 5, 5]])"
      ]
     },
     "execution_count": 17,
     "metadata": {},
     "output_type": "execute_result"
    }
   ],
   "source": [
    "myarr.numpy()  # tensor as a numpy array"
   ]
  },
  {
   "cell_type": "code",
   "execution_count": 18,
   "metadata": {},
   "outputs": [],
   "source": [
    "a = tf.constant([[4,5],[6,6]])"
   ]
  },
  {
   "cell_type": "code",
   "execution_count": 19,
   "metadata": {},
   "outputs": [
    {
     "data": {
      "text/plain": [
       "TensorShape([2, 2])"
      ]
     },
     "execution_count": 19,
     "metadata": {},
     "output_type": "execute_result"
    }
   ],
   "source": [
    "a.get_shape()"
   ]
  },
  {
   "cell_type": "code",
   "execution_count": 20,
   "metadata": {},
   "outputs": [],
   "source": [
    "b = tf.constant([[0],\n",
    "                [9]])"
   ]
  },
  {
   "cell_type": "code",
   "execution_count": 21,
   "metadata": {},
   "outputs": [
    {
     "data": {
      "text/plain": [
       "<bound method _EagerTensorBase.get_shape of <tf.Tensor: shape=(2, 1), dtype=int32, numpy=\n",
       "array([[0],\n",
       "       [9]])>>"
      ]
     },
     "execution_count": 21,
     "metadata": {},
     "output_type": "execute_result"
    }
   ],
   "source": [
    "b.get_shape"
   ]
  },
  {
   "cell_type": "code",
   "execution_count": 22,
   "metadata": {},
   "outputs": [],
   "source": [
    "mytensor = tf.random.normal((4,4),mean=0, stddev=1.0)"
   ]
  },
  {
   "cell_type": "code",
   "execution_count": 23,
   "metadata": {},
   "outputs": [
    {
     "name": "stdout",
     "output_type": "stream",
     "text": [
      "[[1.90139747 0.850661516 1.33314693 0.602493107]\n",
      " [-0.870463133 -3.03252816 0.176264599 -1.57239079]\n",
      " [-0.678644538 -0.819007754 -0.785844386 -0.762294948]\n",
      " [-0.43146 -0.0625649691 -1.41012 0.984089255]]\r\n"
     ]
    }
   ],
   "source": [
    "tf.print(mytensor)"
   ]
  },
  {
   "cell_type": "code",
   "execution_count": 24,
   "metadata": {},
   "outputs": [
    {
     "data": {
      "text/plain": [
       "tf.float32"
      ]
     },
     "execution_count": 24,
     "metadata": {},
     "output_type": "execute_result"
    }
   ],
   "source": [
    "mytensor.dtype"
   ]
  },
  {
   "cell_type": "code",
   "execution_count": null,
   "metadata": {},
   "outputs": [],
   "source": []
  },
  {
   "cell_type": "markdown",
   "metadata": {},
   "source": [
    "### Eager Execution"
   ]
  },
  {
   "cell_type": "markdown",
   "metadata": {},
   "source": [
    "#### verify if running eager execution"
   ]
  },
  {
   "cell_type": "markdown",
   "metadata": {},
   "source": [
    "Eager execution is a fairly new addition to the tensorflow framework, thus we wish to check\n",
    "if eager is eanbled or disabled."
   ]
  },
  {
   "cell_type": "code",
   "execution_count": 25,
   "metadata": {},
   "outputs": [
    {
     "name": "stdout",
     "output_type": "stream",
     "text": [
      "Eager Execution is enabled ( running operations immediately)\n",
      "\n"
     ]
    }
   ],
   "source": [
    "if (tf.executing_eagerly()):\n",
    "    print(\"Eager Execution is enabled ( running operations immediately)\\n\")\n",
    "else:\n",
    "    print(\"You are not running eager execution. TensorFlow version >== 2.0.0\" \\\n",
    "         \"has eager execution enabled by default.\")"
   ]
  },
  {
   "cell_type": "markdown",
   "metadata": {},
   "source": [
    "Turn eager execution off by running:\n",
    "\n",
    "    from tensorflow.python.framework.ops import disable_eager_execution\n",
    "    disable_eager_execution()"
   ]
  },
  {
   "cell_type": "code",
   "execution_count": 26,
   "metadata": {},
   "outputs": [
    {
     "name": "stdout",
     "output_type": "stream",
     "text": [
      "Turn ON eager execution by running: \n",
      "\n",
      "tf.compat.v1.enable_eager_execution()\n",
      "\n",
      "or upgradeyour tensorflow version by running: \n",
      "\n",
      "!pip install --upgrade tensorflow\n",
      "!pip install --upgrade tensorflow-gpu\n"
     ]
    }
   ],
   "source": [
    "print((\"Turn ON eager execution by running: \\n\\n{0}\\n\\nor upgrade\" \\\n",
    "     \"your tensorflow version by running: \\n\\n{1}\").format(\n",
    "    \"tf.compat.v1.enable_eager_execution()\",\"!pip install --upgrade tensorflow\\n\"\\\n",
    "\"!pip install --upgrade tensorflow-gpu\"))"
   ]
  },
  {
   "cell_type": "markdown",
   "metadata": {},
   "source": [
    "### Simple Operations"
   ]
  },
  {
   "cell_type": "markdown",
   "metadata": {},
   "source": [
    "###### The basic operations in tensorflow"
   ]
  },
  {
   "cell_type": "markdown",
   "metadata": {},
   "source": [
    "<b>Common Use</b>\n",
    "\n",
    " *   Making tensors -- tf.constant and tf.variable\n",
    " *   Concatenation of two tensors by tf.concat\n",
    " *  Making tensors by tf.zeros or tf.ones\n",
    " *  Reshape data by tf.reshape\n",
    " *   Casting tensors to other data types by tf.cast"
   ]
  },
  {
   "cell_type": "code",
   "execution_count": 27,
   "metadata": {},
   "outputs": [],
   "source": [
    "# Making a constant tensor A, that does not change.\n",
    "A = tf.constant([[4,3],\n",
    "                [6,3],\n",
    "                [9,8]])"
   ]
  },
  {
   "cell_type": "code",
   "execution_count": 28,
   "metadata": {},
   "outputs": [
    {
     "name": "stdout",
     "output_type": "stream",
     "text": [
      "[[4 3]\n",
      " [6 3]\n",
      " [9 8]]\r\n"
     ]
    }
   ],
   "source": [
    "tf.print(A)"
   ]
  },
  {
   "cell_type": "code",
   "execution_count": 29,
   "metadata": {},
   "outputs": [
    {
     "data": {
      "text/plain": [
       "array([[4, 3],\n",
       "       [6, 3],\n",
       "       [9, 8]])"
      ]
     },
     "execution_count": 29,
     "metadata": {},
     "output_type": "execute_result"
    }
   ],
   "source": [
    "A.numpy()"
   ]
  },
  {
   "cell_type": "code",
   "execution_count": 30,
   "metadata": {},
   "outputs": [],
   "source": [
    "# making a variable tensor VA, which can change. Notice; it's variable.\n",
    "VA = tf.Variable(([1,0],\n",
    "                [4,7]))\n",
    "\n",
    "#Making another tensor B\n",
    "B = tf.constant([[4,4],\n",
    "                [7,8],\n",
    "                [9,9]])"
   ]
  },
  {
   "cell_type": "code",
   "execution_count": 31,
   "metadata": {},
   "outputs": [
    {
     "name": "stdout",
     "output_type": "stream",
     "text": [
      "[[4 4]\n",
      " [7 8]\n",
      " [9 9]]\r\n"
     ]
    }
   ],
   "source": [
    "tf.print(B)"
   ]
  },
  {
   "cell_type": "code",
   "execution_count": 32,
   "metadata": {},
   "outputs": [
    {
     "name": "stdout",
     "output_type": "stream",
     "text": [
      "[[1 0]\n",
      " [4 7]]\r\n"
     ]
    }
   ],
   "source": [
    "tf.print(VA)"
   ]
  },
  {
   "cell_type": "code",
   "execution_count": 33,
   "metadata": {},
   "outputs": [
    {
     "data": {
      "text/plain": [
       "tensorflow.python.ops.resource_variable_ops.ResourceVariable"
      ]
     },
     "execution_count": 33,
     "metadata": {},
     "output_type": "execute_result"
    }
   ],
   "source": [
    "type(VA)"
   ]
  },
  {
   "cell_type": "code",
   "execution_count": 34,
   "metadata": {},
   "outputs": [
    {
     "data": {
      "text/plain": [
       "tensorflow.python.framework.ops.EagerTensor"
      ]
     },
     "execution_count": 34,
     "metadata": {},
     "output_type": "execute_result"
    }
   ],
   "source": [
    "type(B)"
   ]
  },
  {
   "cell_type": "markdown",
   "metadata": {},
   "source": [
    "### Concatenation by tf.concat"
   ]
  },
  {
   "cell_type": "code",
   "execution_count": 35,
   "metadata": {},
   "outputs": [
    {
     "name": "stdout",
     "output_type": "stream",
     "text": [
      "Adding B's columns to A:\n",
      " [[4 3 4 4]\n",
      " [6 3 7 8]\n",
      " [9 8 9 9]]\n"
     ]
    }
   ],
   "source": [
    "# concatenate columns\n",
    "\n",
    "AB_concatenated = tf.concat(values=[A,B], axis=1)\n",
    "\n",
    "print(f\"Adding B\\'s columns to A:\\n {AB_concatenated.numpy()}\")"
   ]
  },
  {
   "cell_type": "code",
   "execution_count": 36,
   "metadata": {},
   "outputs": [
    {
     "name": "stdout",
     "output_type": "stream",
     "text": [
      "Adding B's rows to A:\n",
      "[[4 3]\n",
      " [6 3]\n",
      " [9 8]\n",
      " [4 4]\n",
      " [7 8]\n",
      " [9 9]]\n"
     ]
    }
   ],
   "source": [
    " # concatenate along rows\n",
    "AB_concatenated = tf.concat(values=[A,B], axis=0)\n",
    "print(f\"Adding B\\'s rows to A:\\n{AB_concatenated.numpy()}\")"
   ]
  },
  {
   "cell_type": "markdown",
   "metadata": {},
   "source": [
    "### Making tensors by tf.zeros anf tf.ones"
   ]
  },
  {
   "cell_type": "code",
   "execution_count": 37,
   "metadata": {},
   "outputs": [
    {
     "name": "stdout",
     "output_type": "stream",
     "text": [
      "Tensor full of zeros a sint32, 2 rows and 4 columns:\n",
      "[[0 0 0 0]\n",
      " [0 0 0 0]]\n"
     ]
    }
   ],
   "source": [
    "# Making a tensor filled with zeros, shape=[rows, columns]\n",
    "\n",
    "tensor = tf.zeros(shape=[2,4], dtype=tf.int32)\n",
    "print(f'Tensor full of zeros a sint32, 2 rows and 4 columns:\\n{tensor.numpy()}')"
   ]
  },
  {
   "cell_type": "code",
   "execution_count": 38,
   "metadata": {},
   "outputs": [
    {
     "name": "stdout",
     "output_type": "stream",
     "text": [
      "Tensor full of zeros a sint32, 4 rows and 5 columns:\n",
      "[[1. 1. 1. 1. 1.]\n",
      " [1. 1. 1. 1. 1.]\n",
      " [1. 1. 1. 1. 1.]\n",
      " [1. 1. 1. 1. 1.]]\n"
     ]
    }
   ],
   "source": [
    "# Making a tensor filled with ones, shape=[rows, columns]\n",
    "\n",
    "tensor = tf.ones(shape=[4,5], dtype=tf.float32)\n",
    "print(f'Tensor full of zeros a sint32, 4 rows and 5 columns:\\n{tensor.numpy()}')"
   ]
  },
  {
   "cell_type": "markdown",
   "metadata": {},
   "source": [
    "### Reshape data by tf.reshape"
   ]
  },
  {
   "cell_type": "code",
   "execution_count": 39,
   "metadata": {},
   "outputs": [],
   "source": [
    "# Making a tensor for reshaping\n",
    "tensor = tf.constant([[5,2,8],\n",
    "                     [2,2,7],\n",
    "                     [5,5,6],\n",
    "                     [1,3,2]])"
   ]
  },
  {
   "cell_type": "code",
   "execution_count": 40,
   "metadata": {},
   "outputs": [],
   "source": [
    "# reshaping the tensor into a shape of; shape =[rows, columns]\n",
    "reshaped_tensor = tf.reshape(tensor = tensor, \n",
    "                            shape=[1,12])"
   ]
  },
  {
   "cell_type": "code",
   "execution_count": 41,
   "metadata": {},
   "outputs": [
    {
     "name": "stdout",
     "output_type": "stream",
     "text": [
      "Tensor Before reshape:\n",
      " [[5 2 8]\n",
      " [2 2 7]\n",
      " [5 5 6]\n",
      " [1 3 2]]\n",
      "Tensor After reshape:\n",
      " [[5 2 8 2 2 7 5 5 6 1 3 2]]\n"
     ]
    }
   ],
   "source": [
    "print(f\"Tensor Before reshape:\\n {tensor.numpy()}\")\n",
    "\n",
    "print(f\"Tensor After reshape:\\n {reshaped_tensor.numpy()}\")"
   ]
  },
  {
   "cell_type": "markdown",
   "metadata": {},
   "source": [
    "### Casting tensors to other data types by tf.cast3"
   ]
  },
  {
   "cell_type": "code",
   "execution_count": 42,
   "metadata": {},
   "outputs": [],
   "source": [
    "# Making a  tensor\n",
    "\n",
    "tensor = tf.constant([[1.3,7.5,4.6],\n",
    "                     [7.2, 1.3, 8.88],\n",
    "                     [1.4, 7.5,9.34],\n",
    "                     [8.1, 5.4, 4.66]],\n",
    "                    dtype=tf.float32)\n",
    "\n",
    "tensor_as_int = tf.cast(tensor, tf.int32)"
   ]
  },
  {
   "cell_type": "code",
   "execution_count": 43,
   "metadata": {},
   "outputs": [
    {
     "name": "stdout",
     "output_type": "stream",
     "text": [
      "Tensor with floats: \n",
      " [[1.3  7.5  4.6 ]\n",
      " [7.2  1.3  8.88]\n",
      " [1.4  7.5  9.34]\n",
      " [8.1  5.4  4.66]]\n",
      "\n",
      " Tensor cast from float to  int (just remove the decimal, no rounding):\n",
      "[[1 7 4]\n",
      " [7 1 8]\n",
      " [1 7 9]\n",
      " [8 5 4]]\n"
     ]
    }
   ],
   "source": [
    "print(f\"Tensor with floats: \\n {tensor.numpy()}\")\n",
    "\n",
    "print(f\"\\n Tensor cast from float to  int (just remove the decimal, no rounding):\\n{tensor_as_int.numpy()}\")"
   ]
  },
  {
   "cell_type": "markdown",
   "metadata": {},
   "source": [
    "### The Linera Algebra Operations"
   ]
  },
  {
   "cell_type": "markdown",
   "metadata": {},
   "source": [
    "*    Transpose tensor\n",
    "*    Matrix Multiplication\n",
    "*    Element-wise multiplication\n",
    "*    Identity Matrix"
   ]
  },
  {
   "cell_type": "markdown",
   "metadata": {},
   "source": [
    "#### Transpose Matrix"
   ]
  },
  {
   "cell_type": "code",
   "execution_count": 44,
   "metadata": {},
   "outputs": [
    {
     "name": "stdout",
     "output_type": "stream",
     "text": [
      "The Transposed matrix is: \n",
      "[[9 1]\n",
      " [7 5]\n",
      " [6 7]]\n"
     ]
    }
   ],
   "source": [
    "# Some Matrix A\n",
    "A = tf.constant([[9,7,6],\n",
    "                [1,5,7]])\n",
    "A = tf.transpose(A)\n",
    "\n",
    "print(f'The Transposed matrix is: \\n{A}')"
   ]
  },
  {
   "cell_type": "markdown",
   "metadata": {},
   "source": [
    "#### Matrix Multiplication"
   ]
  },
  {
   "cell_type": "code",
   "execution_count": 45,
   "metadata": {},
   "outputs": [
    {
     "name": "stdout",
     "output_type": "stream",
     "text": [
      "Matrix multiplication of A na d v results in a new tensor: \n",
      " [[49]\n",
      " [43]]\n"
     ]
    }
   ],
   "source": [
    "# Some matrix A\n",
    "A = tf.constant([[3,7],\n",
    "                [1,9]])\n",
    "\n",
    "# Some vector v\n",
    "v  = tf.constant([[7],\n",
    "                 [4]])\n",
    "\n",
    "# Matrix multiplication\n",
    "Av = tf.matmul(A, v)\n",
    "\n",
    "print(f'Matrix multiplication of A na d v results in a new tensor: \\n {Av}')"
   ]
  },
  {
   "cell_type": "markdown",
   "metadata": {},
   "source": [
    "#### Elemt-wise multiplication"
   ]
  },
  {
   "cell_type": "markdown",
   "metadata": {},
   "source": [
    "Comparing matrix multiplication and elementwise multiplication. We can see that\n",
    "they are actually different."
   ]
  },
  {
   "cell_type": "code",
   "execution_count": 46,
   "metadata": {},
   "outputs": [
    {
     "name": "stdout",
     "output_type": "stream",
     "text": [
      "The element-wise multiplication of A nad v results in a new tensor \n",
      " [[21 49]\n",
      " [ 4 36]]\n"
     ]
    }
   ],
   "source": [
    "# Elemtwise multiplication\n",
    "\n",
    "Av = tf.multiply(A, v)\n",
    "\n",
    "print(f'The element-wise multiplication of A nad v results in a new tensor \\n {Av}')"
   ]
  },
  {
   "cell_type": "markdown",
   "metadata": {},
   "source": [
    "#### Identity Matrix"
   ]
  },
  {
   "cell_type": "code",
   "execution_count": 47,
   "metadata": {},
   "outputs": [],
   "source": [
    "# Some Matrix A\n",
    "\n",
    "A = tf.constant([[3,7],\n",
    "                [1,9]])"
   ]
  },
  {
   "cell_type": "code",
   "execution_count": 48,
   "metadata": {},
   "outputs": [
    {
     "data": {
      "text/plain": [
       "TensorShape([2, 2])"
      ]
     },
     "execution_count": 48,
     "metadata": {},
     "output_type": "execute_result"
    }
   ],
   "source": [
    "A.shape"
   ]
  },
  {
   "cell_type": "code",
   "execution_count": 49,
   "metadata": {},
   "outputs": [
    {
     "name": "stdout",
     "output_type": "stream",
     "text": [
      "Number of rows in tensor A  is: 2\n",
      "Number of columns in tensor A is: 2\n"
     ]
    }
   ],
   "source": [
    "# Get number of dimensions\n",
    "\n",
    "rows, columns= A.shape\n",
    "print(f'Number of rows in tensor A  is: {rows}')\n",
    "print(f'Number of columns in tensor A is: {columns}')"
   ]
  },
  {
   "cell_type": "code",
   "execution_count": 50,
   "metadata": {},
   "outputs": [
    {
     "name": "stdout",
     "output_type": "stream",
     "text": [
      "\n",
      " The identity matrix of A: \n",
      " [[1 0]\n",
      " [0 1]]\n"
     ]
    }
   ],
   "source": [
    "# Making identity MAtrix\n",
    "\n",
    "A_identity = tf.eye(num_rows=rows,\n",
    "                   num_columns=columns,\n",
    "                   dtype=tf.int32)\n",
    "\n",
    "print(f'\\n The identity matrix of A: \\n {A_identity.numpy()}')"
   ]
  },
  {
   "cell_type": "code",
   "execution_count": 51,
   "metadata": {},
   "outputs": [
    {
     "name": "stdout",
     "output_type": "stream",
     "text": [
      "Matrix multipliaction of A and v results in a new tensor: \n",
      " [[3 7]\n",
      " [1 9]]\n"
     ]
    }
   ],
   "source": [
    "# MAtrix multiplictaion of A.A_identity\n",
    "\n",
    "AAt = tf.matmul(A, A_identity)\n",
    "\n",
    "print(f'Matrix multipliaction of A and v results in a new tensor: \\n {AAt}')"
   ]
  },
  {
   "cell_type": "markdown",
   "metadata": {},
   "source": [
    "#### Creating a variable in Tensorflow 2.0"
   ]
  },
  {
   "cell_type": "markdown",
   "metadata": {},
   "source": [
    "To use the value of a  tf.Varaible in a tensorflow graph, simply traet it like anormal tf.tensor"
   ]
  },
  {
   "cell_type": "code",
   "execution_count": 52,
   "metadata": {},
   "outputs": [],
   "source": [
    "# Create a variable\n",
    "my_variable = tf.Variable(tf.zeros([2, 3, 4]))"
   ]
  },
  {
   "cell_type": "code",
   "execution_count": 53,
   "metadata": {},
   "outputs": [
    {
     "name": "stdout",
     "output_type": "stream",
     "text": [
      "[[[0 0 0 0]\n",
      "  [0 0 0 0]\n",
      "  [0 0 0 0]]\n",
      "\n",
      " [[0 0 0 0]\n",
      "  [0 0 0 0]\n",
      "  [0 0 0 0]]]\r\n"
     ]
    }
   ],
   "source": [
    "tf.print(my_variable)"
   ]
  },
  {
   "cell_type": "code",
   "execution_count": 54,
   "metadata": {},
   "outputs": [],
   "source": [
    "v = tf.Variable(0.0)\n",
    "\n",
    "w = v+1  # w is a tf.tensor ehich is computed based on value of v."
   ]
  },
  {
   "cell_type": "code",
   "execution_count": 55,
   "metadata": {},
   "outputs": [
    {
     "name": "stdout",
     "output_type": "stream",
     "text": [
      "0\n",
      "1\n"
     ]
    }
   ],
   "source": [
    "tf.print(v)\n",
    "tf.print(w)"
   ]
  },
  {
   "cell_type": "code",
   "execution_count": 56,
   "metadata": {},
   "outputs": [
    {
     "data": {
      "text/plain": [
       "<tf.Variable 'UnreadVariable' shape=() dtype=float32, numpy=2.0>"
      ]
     },
     "execution_count": 56,
     "metadata": {},
     "output_type": "execute_result"
    }
   ],
   "source": [
    "# assign\n",
    "\n",
    "v = tf.Variable(0.0)\n",
    "v.assign(2)"
   ]
  },
  {
   "cell_type": "code",
   "execution_count": 57,
   "metadata": {},
   "outputs": [
    {
     "name": "stdout",
     "output_type": "stream",
     "text": [
      "2\r\n"
     ]
    }
   ],
   "source": [
    "tf.print(v)"
   ]
  },
  {
   "cell_type": "code",
   "execution_count": 58,
   "metadata": {},
   "outputs": [
    {
     "data": {
      "text/plain": [
       "<tf.Variable 'UnreadVariable' shape=() dtype=float32, numpy=1.0>"
      ]
     },
     "execution_count": 58,
     "metadata": {},
     "output_type": "execute_result"
    }
   ],
   "source": [
    "v = tf.Variable(0.0)\n",
    "\n",
    "v.assign_add(1)"
   ]
  },
  {
   "cell_type": "code",
   "execution_count": 59,
   "metadata": {},
   "outputs": [
    {
     "name": "stdout",
     "output_type": "stream",
     "text": [
      "1\r\n"
     ]
    }
   ],
   "source": [
    "tf.print(v)"
   ]
  },
  {
   "cell_type": "markdown",
   "metadata": {},
   "source": [
    "## Operations in TensorFlow 2.0"
   ]
  },
  {
   "cell_type": "markdown",
   "metadata": {},
   "source": [
    "#### Functions, not sessions"
   ]
  },
  {
   "cell_type": "markdown",
   "metadata": {},
   "source": [
    "#### Tensorflow 1.x"
   ]
  },
  {
   "cell_type": "markdown",
   "metadata": {},
   "source": [
    "outputs = session.run(placeholder), feed_dict = {placeholdr, input}"
   ]
  },
  {
   "cell_type": "markdown",
   "metadata": {},
   "source": [
    "#### TensorFlow 2.0"
   ]
  },
  {
   "cell_type": "markdown",
   "metadata": {},
   "source": [
    "outputs = f(input)"
   ]
  },
  {
   "cell_type": "code",
   "execution_count": 60,
   "metadata": {},
   "outputs": [],
   "source": [
    "def add_op(a,b):\n",
    "    return a+b"
   ]
  },
  {
   "cell_type": "code",
   "execution_count": 61,
   "metadata": {},
   "outputs": [
    {
     "name": "stdout",
     "output_type": "stream",
     "text": [
      "30\n"
     ]
    }
   ],
   "source": [
    "print(add_op(10,20))"
   ]
  },
  {
   "cell_type": "code",
   "execution_count": 62,
   "metadata": {},
   "outputs": [
    {
     "name": "stdout",
     "output_type": "stream",
     "text": [
      "30\r\n"
     ]
    }
   ],
   "source": [
    "tf.print(add_op(tf.constant(10), tf.constant(20)))"
   ]
  },
  {
   "cell_type": "code",
   "execution_count": 63,
   "metadata": {},
   "outputs": [],
   "source": [
    "# linear Model\n",
    "\n",
    "w= tf.Variable([10], tf.int32)\n",
    "b = tf.Variable([5], tf.int32)"
   ]
  },
  {
   "cell_type": "code",
   "execution_count": 64,
   "metadata": {},
   "outputs": [],
   "source": [
    "def linear_model(x):\n",
    "    return w*x+b"
   ]
  },
  {
   "cell_type": "code",
   "execution_count": 65,
   "metadata": {},
   "outputs": [
    {
     "data": {
      "text/plain": [
       "array([ 55, 105, 155, 205])"
      ]
     },
     "execution_count": 65,
     "metadata": {},
     "output_type": "execute_result"
    }
   ],
   "source": [
    "linear_model(x=[5,10,15,20]).numpy()"
   ]
  },
  {
   "cell_type": "code",
   "execution_count": 66,
   "metadata": {},
   "outputs": [
    {
     "data": {
      "text/plain": [
       "array([ 55, 105,  25])"
      ]
     },
     "execution_count": 66,
     "metadata": {},
     "output_type": "execute_result"
    }
   ],
   "source": [
    "linear_model([5,10,2]).numpy()"
   ]
  },
  {
   "cell_type": "code",
   "execution_count": null,
   "metadata": {},
   "outputs": [],
   "source": []
  }
 ],
 "metadata": {
  "kernelspec": {
   "display_name": "Python 3",
   "language": "python",
   "name": "python3"
  },
  "language_info": {
   "codemirror_mode": {
    "name": "ipython",
    "version": 3
   },
   "file_extension": ".py",
   "mimetype": "text/x-python",
   "name": "python",
   "nbconvert_exporter": "python",
   "pygments_lexer": "ipython3",
   "version": "3.8.3"
  }
 },
 "nbformat": 4,
 "nbformat_minor": 4
}
